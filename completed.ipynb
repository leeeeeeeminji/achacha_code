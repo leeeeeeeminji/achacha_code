{
 "cells": [
  {
   "cell_type": "markdown",
   "id": "25278b89",
   "metadata": {
    "id": "25278b89"
   },
   "source": [
    "#### 1)파이썬 3.6버전\n",
    "#### 2)비주얼 스튜디오 설치(c++있어야함)\n",
    "#### 3)!pip install cmake\n",
    "#### 4)dlib 설치: conda install -c conda-forge dlib 실행\n",
    "#### 5)face_recognition 설치: conda install -c conda-forge face_recognition 실행"
   ]
  },
  {
   "cell_type": "markdown",
   "id": "04e86660",
   "metadata": {
    "id": "04e86660"
   },
   "source": [
    "### 필요한 패키지 불러오기"
   ]
  },
  {
   "cell_type": "code",
   "execution_count": null,
   "id": "fa9f4b11",
   "metadata": {
    "ExecuteTime": {
     "end_time": "2021-08-20T09:25:40.300762Z",
     "start_time": "2021-08-20T09:25:40.287826Z"
    },
    "id": "fa9f4b11"
   },
   "outputs": [],
   "source": [
    "import os\n",
    "import numpy as np\n",
    "import pandas as pd\n",
    "from PIL import Image\n",
    "\n",
    "import cv2\n",
    "from matplotlib import pyplot as plt\n",
    "\n",
    "import glob\n",
    "\n",
    "import face_recognition\n",
    "import pyttsx3\n",
    "\n",
    "import telegram"
   ]
  },
  {
   "cell_type": "markdown",
   "id": "6b389610",
   "metadata": {
    "id": "6b389610"
   },
   "source": [
    "### 얼굴 이미지 노이즈 제거 후 크롭하여 저장하기"
   ]
  },
  {
   "cell_type": "markdown",
   "id": "2506b7c3",
   "metadata": {
    "id": "2506b7c3"
   },
   "source": [
    "#### 경로 설정"
   ]
  },
  {
   "cell_type": "code",
   "execution_count": null,
   "id": "58e3de59",
   "metadata": {
    "id": "58e3de59"
   },
   "outputs": [],
   "source": [
    "uncropped_path = 'C:/Users/Chanhui1/uncropped_4/' #전처리 되지 않은 이미지 위치\n",
    "blured_path = 'C:/Users/Chanhui1/blured_4/' #노이즈 제거한 이미지 저장할 위치\n",
    "cropped_path = 'C:/Users/Chanhui1/cropped_4/' #노이즈 제거 후 크롭한 이미지 저장할 위치(전처리 완료된 이미지 저장 위치)"
   ]
  },
  {
   "cell_type": "markdown",
   "id": "348d7cb4",
   "metadata": {
    "id": "348d7cb4"
   },
   "source": [
    "#### 노이즈 제거"
   ]
  },
  {
   "cell_type": "code",
   "execution_count": null,
   "id": "9140a04c",
   "metadata": {
    "ExecuteTime": {
     "end_time": "2021-08-20T09:27:07.714465Z",
     "start_time": "2021-08-20T09:27:06.942161Z"
    },
    "id": "9140a04c"
   },
   "outputs": [],
   "source": [
    "plt.rcParams[\"figure.figsize\"] = (16,9)\n",
    "\n",
    "path = glob.glob(uncropped_path + '*.jpg') #전처리 되지 않은 데이터 위치 + 형식\n",
    "\n",
    "cv_img_blur = []\n",
    "ids_blur = []\n",
    "num = 0\n",
    "\n",
    "for img in path:\n",
    "    n=cv2.imread(img)\n",
    "    id = str(os.path.split(img)[-1].split(\".\")[0])\n",
    "    cv_img_blur.append(n)\n",
    "    ids_blur.append(id)\n",
    "    \n",
    "for img in cv_img_blur:\n",
    "    final_image = cv2.bilateralFilter(img, 13, 25, 9) #노이즈 제거 적용\n",
    "    cv2.imwrite(blured_path + ids_blur[num] + '.jpg',final_image) #blured_path에 노이즈 제거 이미지 저장\n",
    "    num = num + 1"
   ]
  },
  {
   "cell_type": "markdown",
   "id": "6be706a4",
   "metadata": {
    "id": "6be706a4"
   },
   "source": [
    "#### 노이즈 제거 한 이미지 크롭"
   ]
  },
  {
   "cell_type": "code",
   "execution_count": null,
   "id": "da7eafd7",
   "metadata": {
    "ExecuteTime": {
     "end_time": "2021-08-20T09:27:16.280765Z",
     "start_time": "2021-08-20T09:27:15.119526Z"
    },
    "id": "da7eafd7",
    "outputId": "04d8f8b3-5408-418e-8a8a-64a803d74af1"
   },
   "outputs": [
    {
     "name": "stdout",
     "output_type": "stream",
     "text": [
      "[[1092 1775  781  781]]\n",
      "[[1071 1390  804  804]]\n",
      "[[ 662 1322 1360 1360]]\n",
      "[[1217 1821  645  645]]\n"
     ]
    }
   ],
   "source": [
    "plt.rcParams[\"figure.figsize\"] = (16,9)\n",
    "\n",
    "cascade_file = \".\\\\haarcascade_frontface.xml\"\n",
    "\n",
    "\n",
    "path = glob.glob(blured_path + '*.jpg')\n",
    "\n",
    "cv_img = []\n",
    "ids = []\n",
    "\n",
    "for img in path:\n",
    "    n=cv2.imread(img)\n",
    "    id = str(os.path.split(img)[-1].split(\".\")[0])\n",
    "    cv_img.append(n)\n",
    "    ids.append(id)\n",
    "    \n",
    "num = 0\n",
    "\n",
    "for i in cv_img: # for문으로 cv_img 리스트에 있는 이미지 데이터 하나씩 꺼내기#\n",
    "    image_gs = cv2.cvtColor(i, cv2.COLOR_BGR2GRAY)\n",
    "    cascade = cv2.CascadeClassifier(cascade_file)\n",
    "    face_list = cascade.detectMultiScale(image_gs, minSize = (30,30)) #얼굴좌표#\n",
    "    print(face_list) \n",
    "    \n",
    "    if len(face_list) == 1: # 얼굴좌표가 인식됐다면#\n",
    "        image_face = i.copy() # image_face에 이미지 데이터 대입#\n",
    "        color = (0,0,255) # 빨강\n",
    "        for face in face_list:\n",
    "            x,y,w,h = face\n",
    "            cv2.rectangle(image_face,(x,y),(x+w,y+h), color, thickness = 3)   #image_face에 얼굴 인식 좌표 그리기#\n",
    "            rectangle_image = cv2.cvtColor(image_face, cv2.COLOR_BGR2RGB)\n",
    "            crop_image = rectangle_image[y:y+h, x:x+w]  #crop_image에 얼굴만 크롭한 이미지 넣기#\n",
    "            final_image = cv2.cvtColor(crop_image, cv2.COLOR_RGB2BGR)\n",
    "            cv2.imwrite(cropped_path+str(num)+'.jpg',final_image)\n",
    "            num = num + 1"
   ]
  },
  {
   "cell_type": "markdown",
   "id": "92e3b92a",
   "metadata": {
    "id": "92e3b92a"
   },
   "source": [
    "## 웹캠으로 얼굴 인식하기"
   ]
  },
  {
   "cell_type": "markdown",
   "id": "633e9abf",
   "metadata": {
    "id": "633e9abf"
   },
   "source": [
    "#### 소리 설정하기"
   ]
  },
  {
   "cell_type": "code",
   "execution_count": null,
   "id": "c34fdf15",
   "metadata": {
    "id": "c34fdf15"
   },
   "outputs": [],
   "source": [
    "# TTS 엔진 초기화\n",
    "engine = pyttsx3.init()\n",
    "\n",
    "# 말하는 속도\n",
    "engine.setProperty('rate',180)\n",
    "rate = engine.getProperty('rate')\n",
    "\n",
    "# 소리 크기\n",
    "engine.setProperty('volume',0.7)\n",
    "volume = engine.getProperty('volume')\n",
    "\n",
    "# 목소리\n",
    "voices = engine.getProperty('voices')\n",
    "engine.setProperty('voice',voices[0].id) #남성\n",
    "#engine.setProperty('voice',voices[1].id) #여성"
   ]
  },
  {
   "cell_type": "markdown",
   "id": "4664102a",
   "metadata": {
    "id": "4664102a"
   },
   "source": [
    "#### 텔레그램 설정하기"
   ]
  },
  {
   "cell_type": "code",
   "execution_count": null,
   "id": "4c25df0f",
   "metadata": {
    "id": "4c25df0f"
   },
   "outputs": [],
   "source": [
    "chat_token = \"1978535694:AAGWsSsB8hKaenqYEexJ8_MK2nLm6AJfyuE\" #텔레그램-> botFather-> /newbot->id만들면=>토큰 받을 수 있음 \n",
    "chat = telegram.Bot(token = chat_token)\n",
    "updates = chat.getUpdates()\n",
    "for u in updates:\n",
    "    print(u.message['chat']['id'])\n",
    "\n",
    "bot = telegram.Bot(token = \"1978535694:AAGWsSsB8hKaenqYEexJ8_MK2nLm6AJfyuE\")\n",
    "\n",
    "chat_id = '1888582466' #https://api.telegram.org/bot[Token 값]/getUpdates확인해서 id확인"
   ]
  },
  {
   "cell_type": "markdown",
   "id": "f1bb24cb",
   "metadata": {
    "id": "f1bb24cb"
   },
   "source": [
    "### 얼굴 인식 함수 만들기"
   ]
  },
  {
   "cell_type": "code",
   "execution_count": null,
   "id": "0bda1273",
   "metadata": {
    "id": "0bda1273"
   },
   "outputs": [],
   "source": [
    "# 얼굴 인식(웹캠)\n",
    "# 웹캠 0(기본값)에 대한 레퍼런스 가져오기\n",
    "\n",
    "\n",
    "\n",
    "def webcam():\n",
    "    \n",
    "    \n",
    "    video_capture = cv2.VideoCapture('C:/Users/Chanhui1/IMG_6616.mp4') # 웹캠 출력(웹캠: 0, 비디오 파일: 비디오 파일 위치, 파일 이름 대입하면 됨.)\n",
    "\n",
    "    path = glob.glob(cropped_path + '*.jpg') # 크롭된 이미지 있는 위치 + 이미지 형식\n",
    "\n",
    "    ids = []\n",
    "    \n",
    "    # 인식시킬 사진을 로드하고 인식시키기\n",
    "    for img in path:\n",
    "        id = str(os.path.split(img)[-1].split(\".\")[0])\n",
    "        ids.append(id)\n",
    "\n",
    "    known_face_encodings = []\n",
    "\n",
    "    for name in ids:\n",
    "        image = face_recognition.load_image_file(cropped_path + name + \".jpg\")\n",
    "        face_encoding = face_recognition.face_encodings(image)[0]\n",
    "        known_face_encodings.append(face_encoding)\n",
    "\n",
    "    # 특정 변수 초기값 선언\n",
    "    face_locations = []\n",
    "    face_encodings = []\n",
    "    process_this_frame = True\n",
    "    face_names_acc_on=[] # face_names 누적 리스트_승차용 리스트\n",
    "    face_names_acc_off = [] # 누적 리스트_하차용 리스트\n",
    "    change_button = True # 승차, 하차 버튼 논리값\n",
    "\n",
    "    # 목소리내는데 쓰일 리스트 갯수 변수\n",
    "    len_get_on = len(face_names_acc_on) # 승차리스트 \n",
    "    len_get_out = len(face_names_acc_off) # 하차리스트\n",
    "\n",
    "    get_on = str(0)\n",
    "    get_off = str(0)\n",
    "    total = str(0)\n",
    "\n",
    "    while True:\n",
    "        # 비디오의 한 프레임 잡기\n",
    "        ret, frame = video_capture.read()\n",
    "\n",
    "        # 더 빠른 얼굴 인식 처리를 위해 비디오 프레임 크기를 1/4 크기로 조정\n",
    "        small_frame = cv2.resize(frame, (0, 0), fx=0.25, fy=0.25) #비디오 대입시 오류 발생하는 부분.\n",
    "\n",
    "        # 이미지를 BGR 색상(OpenCV 사용)에서 RGB 색상(face_recognition 사용)으로 변환\n",
    "        rgb_small_frame = cv2.cvtColor(small_frame, cv2.COLOR_BGR2RGB)\n",
    "\n",
    "        # 시간을 절약하기 위해 비디오의 다른 모든 프레임만 처리\n",
    "        if process_this_frame:\n",
    "            # 비디오의 현재 프레임에서 모든 얼굴 위치와 인코딩 찾기\n",
    "            face_locations = face_recognition.face_locations(rgb_small_frame)\n",
    "            face_encodings = face_recognition.face_encodings(rgb_small_frame, face_locations)\n",
    "\n",
    "            face_names = []\n",
    "            for face_encoding in face_encodings:\n",
    "                # See if the face is a match for the known face(s)\n",
    "                matches = face_recognition.compare_faces(known_face_encodings, face_encoding)\n",
    "                name = \"Unknown\"\n",
    "\n",
    "                # known_face_encodings에서 일치하는 항목이 발견되면 첫 번째 항목만 사용\n",
    "                # if True in matches:\n",
    "                #     first_match_index = matches.index(True)\n",
    "                #     name = known_face_names[first_match_index]\n",
    "\n",
    "                # 또는 새 얼굴까지의 거리가 가장 작은 알려진 얼굴을 사용\n",
    "                face_distances = face_recognition.face_distance(known_face_encodings, face_encoding)\n",
    "                best_match_index = np.argmin(face_distances)\n",
    "                if matches[best_match_index]:\n",
    "                    name = ids[best_match_index]\n",
    "\n",
    "                face_names.append(name)\n",
    "\n",
    "                # Unkown일 땐 카운트하지 않기\n",
    "                if name != 'Unknown':\n",
    "                    if change_button:\n",
    "                        face_names_acc_on.append(name.split('_')[0]) # 숫자 제외한 이름 추가\n",
    "                    else:\n",
    "                        face_names_acc_off.append(name.split('_')[0])\n",
    "\n",
    "                \n",
    "                # 현재 승차인원 리스트\n",
    "                face_names_acc_total = list(set(face_names_acc_on) - set(face_names_acc_off)) #차량 탑승 인원 리스트\n",
    "\n",
    "                # 승차버튼: a, 하차버튼: b\n",
    "                if cv2.waitKey(1) == ord('a'):\n",
    "                    change_button = True\n",
    "\n",
    "                if cv2.waitKey(1) == ord('b'):\n",
    "                    change_button = False\n",
    "\n",
    "                    \n",
    "                \n",
    "                # '승차입니다', '하차입니다' 말하고 텔레그램으로 문자 보내기\n",
    "                if change_button == True:\n",
    "                    if len_get_on != len(set(face_names_acc_on)):\n",
    "                        engine.say(name.split('_')[0]+'  승차입니다.')\n",
    "                        engine.runAndWait() #말 다할때까지 대기\n",
    "                        engine.stop() #끝\n",
    "                        len_get_on = len(set(face_names_acc_on))\n",
    "                        \n",
    "                        bot.sendMessage(chat_id=chat_id, text=name.split('_')[0]+'승차 했습니다.')\n",
    "                    else:\n",
    "                        continue\n",
    "\n",
    "                else:\n",
    "                    if len_get_out != len(set(face_names_acc_off)):\n",
    "                        engine.say(name.split('_')[0]+'  하차입니다.')\n",
    "                        engine.runAndWait() #말 다할때까지 대기\n",
    "                        engine.stop() #끝\n",
    "                        len_get_out = len(set(face_names_acc_off))\n",
    "                        \n",
    "                        bot.sendMessage(chat_id=chat_id, text=name.split('_')[0]+'하차 했습니다.')\n",
    "                    else:\n",
    "                        continue\n",
    "\n",
    "\n",
    "        process_this_frame = not process_this_frame #원본엔 이게 있었는데 왜 있는지 모르겠습니다.\n",
    "\n",
    "        font = cv2.FONT_HERSHEY_DUPLEX\n",
    "        \n",
    "        # 결과 표시\n",
    "        for (top, right, bottom, left), name in zip(face_locations, face_names):\n",
    "            # 감지한 프레임이 1/4 크기로 축소되었기 때문에 얼굴 위치를 백업\n",
    "            top *= 4\n",
    "            right *= 4\n",
    "            bottom *= 4\n",
    "            left *= 4\n",
    "\n",
    "            # 얼굴 주위에 박스 그림\n",
    "            cv2.rectangle(frame, (left, top), (right, bottom), (0, 0, 255), 2)\n",
    "\n",
    "            # 얼굴 아래에 이름으로 라벨 표시\n",
    "            cv2.rectangle(frame, (left, bottom - 35), (right, bottom), (0, 0, 255), cv2.FILLED)\n",
    "            cv2.putText(frame, name.split('_')[0], (left + 6, bottom - 6), font, 1.0, (255, 255, 255),1)\n",
    "\n",
    "            get_on = str(len(set(face_names_acc_on)))\n",
    "            get_off = str(len(set(face_names_acc_off)))\n",
    "            total = str(len(set(face_names_acc_total)))\n",
    "\n",
    "\n",
    "\n",
    "        # 승하차 여부 표시 (승차 : get on, 하차 : get off, 총 인원 : total)\n",
    "        \n",
    "        cv2.rectangle(frame, (0, 300), (200, 480), (104,213,244), cv2.FILLED)\n",
    "        cv2.putText(frame, 'get on: '+get_on,(20,370),font,1.0,(0,0,0))\n",
    "        cv2.putText(frame, 'get off: '+get_off,(20,400),font,1.0,(0,0,0))\n",
    "        cv2.putText(frame, 'total: '+total,(20,450),font,1.0,(0,0,0))\n",
    "        \n",
    "        # 승하차 모드 표시\n",
    "        if change_button:\n",
    "            cv2.putText(frame, 'mode: on',(20,330),font,1.0,(0,0,0))\n",
    "        else:\n",
    "            cv2.putText(frame, 'mode: off',(20,330),font,1.0,(0,0,0))\n",
    "            \n",
    "\n",
    "        # 결과 보여주기\n",
    "        cv2.imshow('Video', frame)\n",
    "\n",
    "\n",
    "        # 'c' 누르면 '현재 인원 ?? 명입니다.' 말하기\n",
    "        if cv2.waitKey(1) == ord('c'):\n",
    "            engine.say('현재 인원'+total+'명 입니다.')\n",
    "            engine.runAndWait() #말 다할때까지 대기\n",
    "            engine.stop() #끝\n",
    "\n",
    "\n",
    "        # 'q' 누르면 종료\n",
    "        if cv2.waitKey(1) & 0xFF == ord('q'):\n",
    "            break\n",
    "\n",
    "\n",
    "    # 웹캠으로 내보내기\n",
    "    video_capture.release()\n",
    "    cv2.destroyAllWindows()"
   ]
  },
  {
   "cell_type": "code",
   "execution_count": null,
   "id": "dea763fe",
   "metadata": {
    "id": "dea763fe"
   },
   "outputs": [],
   "source": [
    "webcam()"
   ]
  },
  {
   "cell_type": "markdown",
   "id": "e69a348f",
   "metadata": {
    "id": "e69a348f"
   },
   "source": [
    "#### 실행하면 기본값이 승차모드고, 하차 버튼(b)누르면 하차 모드로 변경됩니다. 다소 인식을 잘 못 하는 경향이 있지만 여러 번 누르면 됩니다....\n",
    "승차버튼: a, \n",
    "하차버튼: b, \n",
    "현재 인원 알림 버튼: c, \n",
    "종료버튼: q"
   ]
  },
  {
   "cell_type": "code",
   "execution_count": null,
   "id": "bd710be9",
   "metadata": {
    "id": "bd710be9"
   },
   "outputs": [],
   "source": []
  }
 ],
 "metadata": {
  "colab": {
   "name": "completed.ipynb",
   "provenance": []
  },
  "kernelspec": {
   "display_name": "Python 3",
   "language": "python",
   "name": "python3"
  },
  "language_info": {
   "codemirror_mode": {
    "name": "ipython",
    "version": 3
   },
   "file_extension": ".py",
   "mimetype": "text/x-python",
   "name": "python",
   "nbconvert_exporter": "python",
   "pygments_lexer": "ipython3",
   "version": "3.8.10"
  },
  "toc": {
   "base_numbering": 1,
   "nav_menu": {},
   "number_sections": true,
   "sideBar": true,
   "skip_h1_title": false,
   "title_cell": "Table of Contents",
   "title_sidebar": "Contents",
   "toc_cell": false,
   "toc_position": {},
   "toc_section_display": true,
   "toc_window_display": false
  },
  "varInspector": {
   "cols": {
    "lenName": 16,
    "lenType": 16,
    "lenVar": 40
   },
   "kernels_config": {
    "python": {
     "delete_cmd_postfix": "",
     "delete_cmd_prefix": "del ",
     "library": "var_list.py",
     "varRefreshCmd": "print(var_dic_list())"
    },
    "r": {
     "delete_cmd_postfix": ") ",
     "delete_cmd_prefix": "rm(",
     "library": "var_list.r",
     "varRefreshCmd": "cat(var_dic_list()) "
    }
   },
   "types_to_exclude": [
    "module",
    "function",
    "builtin_function_or_method",
    "instance",
    "_Feature"
   ],
   "window_display": false
  }
 },
 "nbformat": 4,
 "nbformat_minor": 5
}
